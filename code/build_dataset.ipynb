{
 "metadata": {
  "language_info": {
   "codemirror_mode": {
    "name": "ipython",
    "version": 3
   },
   "file_extension": ".py",
   "mimetype": "text/x-python",
   "name": "python",
   "nbconvert_exporter": "python",
   "pygments_lexer": "ipython3",
   "version": "3.7.4-final"
  },
  "orig_nbformat": 2,
  "kernelspec": {
   "name": "python374jvsc74a57bd0b9588a34abcff1de4bf972ab5cd68986d24a9b9139f34369b07ef3ad172a77fb",
   "display_name": "Python 3.7.4 64-bit ('base': conda)"
  },
  "metadata": {
   "interpreter": {
    "hash": "b9588a34abcff1de4bf972ab5cd68986d24a9b9139f34369b07ef3ad172a77fb"
   }
  }
 },
 "nbformat": 4,
 "nbformat_minor": 2,
 "cells": [
  {
   "cell_type": "code",
   "execution_count": 1,
   "metadata": {},
   "outputs": [],
   "source": [
    "import numpy as np\n",
    "import pandas as pd\n",
    "import matplotlib.pyplot as plt\n",
    "import requests\n",
    "from datetime import datetime\n",
    "from orderedset import OrderedSet\n",
    "from time import sleep"
   ]
  },
  {
   "source": [
    "## Get transactions from 1 address\n",
    "Seems like this API limits this to 10 000 txs."
   ],
   "cell_type": "markdown",
   "metadata": {}
  },
  {
   "cell_type": "code",
   "execution_count": 2,
   "metadata": {
    "tags": []
   },
   "outputs": [],
   "source": [
    "def get_transactions_from_address(address,start_block,end_block):# api-endpoint\n",
    "  URL = \"https://api.etherscan.io/api\"\n",
    "  \n",
    "  # parameters\n",
    "  address = \"0x4ddc2d193948926d02f9b1fe9e1daa0718270ed5\"  \n",
    "  api_key = \"8FHTNPR8GQPAEVSRHBVDZ4TWEJQCCUB1NX\"\n",
    "  # defining a params dict for the parameters to be sent to the API\n",
    "  PARAMS = {'module':'account','action':'txlist','address':address,'startblock':start_block,'end_block':end_block,'apikey':api_key}\n",
    "  \n",
    "  # sending get request and saving the response as response object\n",
    "  r = requests.get(url = URL, params = PARAMS)\n",
    "  \n",
    "  # extracting data in json format\n",
    "  data = r.json()\n",
    "\n",
    "  if len(data[\"result\"]) > 0:\n",
    "      # Load response into Dataframe and print it\n",
    "      df = pd.DataFrame(data['result'])\n",
    "\n",
    "      # Throw away some columns\n",
    "      df = df.loc[df['isError'] == \"0\"]      \n",
    "\n",
    "      df = df[[\"timeStamp\",\"from\",\"to\",\"value\",\"gas\",'isError',\"gasUsed\"]]\n",
    "\n",
    "      # Convert unix timestamp into something readable\n",
    "      df['timeStamp'] = df['timeStamp'].apply(lambda ts: datetime.fromtimestamp(int(ts)).strftime(\"%c\"))\n",
    "      if len(df) == 10000:\n",
    "        print(\"[Warning] 10k txs\")\n",
    "  \n",
    "  return df \n"
   ]
  },
  {
   "source": [
    "## Load addresses with highest balances\n",
    "I copied these addresses manually btw, seems like there is no API call for it"
   ],
   "cell_type": "markdown",
   "metadata": {}
  },
  {
   "cell_type": "code",
   "execution_count": 3,
   "metadata": {},
   "outputs": [],
   "source": [
    "## Get addresses with highest balance\n",
    "addresses = []\n",
    "with open(\"top_1000_addresses.txt\",'r') as f:\n",
    "    addresses = list(f.read().split(\"\\n\"))"
   ]
  },
  {
   "source": [
    "## BFS walk for 1 month period"
   ],
   "cell_type": "markdown",
   "metadata": {}
  },
  {
   "cell_type": "code",
   "execution_count": 4,
   "metadata": {
    "tags": []
   },
   "outputs": [
    {
     "output_type": "stream",
     "name": "stdout",
     "text": [
      "Q = 3248, Txs: 6096 of 100000000.0, New txs: 6096, seen addr: 1\n",
      "Q = 3247, Txs: 12192 of 100000000.0, New txs: 6096, seen addr: 2\n",
      "Q = 3246, Txs: 18288 of 100000000.0, New txs: 6096, seen addr: 3\n",
      "Q = 3245, Txs: 24384 of 100000000.0, New txs: 6096, seen addr: 4\n",
      "Q = 3244, Txs: 30480 of 100000000.0, New txs: 6096, seen addr: 5\n",
      "Q = 3243, Txs: 36576 of 100000000.0, New txs: 6096, seen addr: 6\n",
      "Q = 3242, Txs: 42672 of 100000000.0, New txs: 6096, seen addr: 7\n",
      "Q = 3241, Txs: 48768 of 100000000.0, New txs: 6096, seen addr: 8\n",
      "Q = 3240, Txs: 54864 of 100000000.0, New txs: 6096, seen addr: 9\n",
      "Q = 3239, Txs: 60960 of 100000000.0, New txs: 6096, seen addr: 10\n",
      "Q = 3238, Txs: 67056 of 100000000.0, New txs: 6096, seen addr: 11\n"
     ]
    }
   ],
   "source": [
    "end_block = 12204609\n",
    "start_block = 12003173\n",
    "end_block = start_block+int((end_block-start_block)/4)\n",
    "\n",
    "# Only collect 100 million txs\n",
    "collect_max = 1e8\n",
    "collected = 0\n",
    "\n",
    "output_file = \"randomwalk_{}_{}.txt\".format(start_block,end_block)\n",
    "f = open(output_file,'w')\n",
    "\n",
    "queue = OrderedSet(addresses[:100])\n",
    "seen_addresses = set()\n",
    "\n",
    "while len(queue) > 0 and collected < collect_max:\n",
    "    address = queue.pop()\n",
    "    \n",
    "    df = get_transactions_from_address(address,start_block,end_block)\n",
    "    collected += len(df) # Count new txs\n",
    "\n",
    "    # Add all unseen addresses to queue\n",
    "    seen_addresses.add(address)\n",
    "    new_addresses = set([x for x in list(df[\"from\"])+list(df[\"to\"]) if x not in seen_addresses])\n",
    "    for new in new_addresses:\n",
    "        queue.add(new)\n",
    "\n",
    "    # Record this address\n",
    "    sleep(0.25) # Wait 0.20s because we are limited to 5tx/s\n",
    "\n",
    "    # Append dataframe in CSV format to output file\n",
    "    f.write(df.to_csv())\n",
    "    print(\"Q = {}, Txs: {} of {}, New txs: {}, seen addr: {}\".format(len(queue),collected,collect_max,len(df),len(seen_addresses)))"
   ]
  },
  {
   "cell_type": "code",
   "execution_count": null,
   "metadata": {},
   "outputs": [],
   "source": []
  }
 ]
}