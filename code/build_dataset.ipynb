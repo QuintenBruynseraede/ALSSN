{
 "metadata": {
  "language_info": {
   "codemirror_mode": {
    "name": "ipython",
    "version": 3
   },
   "file_extension": ".py",
   "mimetype": "text/x-python",
   "name": "python",
   "nbconvert_exporter": "python",
   "pygments_lexer": "ipython3",
   "version": "3.7.4-final"
  },
  "orig_nbformat": 2,
  "kernelspec": {
   "name": "python37464bitbasecondab4ea8511d78a42b09298bfea6f441a2a",
   "display_name": "Python 3.7.4 64-bit ('.anaconda3': conda)"
  },
  "metadata": {
   "interpreter": {
    "hash": "b9588a34abcff1de4bf972ab5cd68986d24a9b9139f34369b07ef3ad172a77fb"
   }
  }
 },
 "nbformat": 4,
 "nbformat_minor": 2,
 "cells": [
  {
   "cell_type": "code",
   "execution_count": null,
   "metadata": {},
   "outputs": [],
   "source": [
    "!pip install OrderedSet\n",
    "!pip install numpy\n",
    "!pip install pandas\n",
    "!pip install matplotlib\n",
    "import numpy as np\n",
    "import pandas as pd\n",
    "import matplotlib.pyplot as plt\n",
    "import requests\n",
    "from datetime import datetime\n",
    "from orderedset import OrderedSet\n",
    "from time import sleep\n",
    "import sys"
   ]
  },
  {
   "source": [
    "## Get transactions from 1 address\n",
    "Seems like this API limits this to 10 000 txs."
   ],
   "cell_type": "markdown",
   "metadata": {}
  },
  {
   "cell_type": "code",
   "execution_count": null,
   "metadata": {
    "tags": []
   },
   "outputs": [],
   "source": [
    "def get_transactions_from_address(address,start_block,end_block):\n",
    "  URL = \"https://api.etherscan.io/api\"\n",
    "  \n",
    "  # parameters\n",
    "  api_key = \"8FHTNPR8GQPAEVSRHBVDZ4TWEJQCCUB1NX\"\n",
    "  # defining a params dict for the parameters to be sent to the API\n",
    "  PARAMS = {'module':'account','action':'txlist','address':address,'startblock':start_block,'endblock':end_block,'apikey':api_key}\n",
    "  \n",
    "  # sending get request and saving the response as response object\n",
    "  try:\n",
    "    r = requests.get(url = URL, params = PARAMS)\n",
    "  except Exception:\n",
    "    # If connection error, skip this address\n",
    "    print(\"[Error] Error connecting to API, skipping address...\")\n",
    "    return pd.DataFrame({\"from\":[],\"to\":[],\"value\":[]}),0  \n",
    "  \n",
    "  # extracting data in json format\n",
    "  data = r.json()\n",
    "  if data[\"status\"] != \"0\":\n",
    "    print(\"{}\".format(data[\"message\"]))\n",
    "\n",
    "  if len(data[\"result\"]) > 0:\n",
    "      # Load response into Dataframe\n",
    "      try:\n",
    "        df = pd.DataFrame(data['result'])\n",
    "      except Exception:\n",
    "        print(\"Error reading dataFrame from values, written to error.txt\")\n",
    "        with open(\"error.txt\",'w') as f:\n",
    "          f.write(data[\"result\"])\n",
    "          return pd.DataFrame({\"from\":[],\"to\":[],\"value\":[]}),0\n",
    "\n",
    "      # Throw away some weird values\n",
    "      df = df.loc[df['isError'] == \"0\"]\n",
    "      df = df.loc[df[\"value\"] != \"0\"]\n",
    "\n",
    "      full_txn_count = len(df)\n",
    "\n",
    "      # df = df[[\"timeStamp\",\"from\",\"to\",\"value\",\"gas\",'isError',\"gasUsed\"]]\n",
    "      df = df[[\"from\",\"to\",\"value\"]]\n",
    "\n",
    "      # Convert unix timestamp into something readable\n",
    "      # df['timeStamp'] = df['timeStamp'].apply(lambda ts: datetime.fromtimestamp(int(ts)).strftime(\"%c\"))\n",
    "\n",
    "      # Group txs by (from,to) and sum value\n",
    "      df['value'] = df['value'].apply(lambda x: int(x))   # Convert value str to int\n",
    "      df = df.groupby(['from', 'to']).agg({'value':'sum'})\n",
    "      df = df.reset_index(level=df.index.names)\n",
    "\n",
    "      if len(df) == 10000:\n",
    "        print(\"[Warning] 10k txs\")\n",
    "      return df,full_txn_count\n",
    "  \n",
    "  return pd.DataFrame({\"from\":[],\"to\":[],\"value\":[]}),0"
   ]
  },
  {
   "source": [
    "## Load addresses with highest balances\n",
    "I copied these addresses manually btw, seems like there is no API call for it"
   ],
   "cell_type": "markdown",
   "metadata": {}
  },
  {
   "cell_type": "code",
   "execution_count": null,
   "metadata": {},
   "outputs": [],
   "source": [
    "## Get addresses with highest balance\n",
    "addresses = []\n",
    "with open(\"top_1000_addresses.txt\",'r') as f:\n",
    "    addresses = list(f.read().split(\"\\n\"))"
   ]
  },
  {
   "source": [
    "## BFS walk for 1 month period"
   ],
   "cell_type": "markdown",
   "metadata": {}
  },
  {
   "cell_type": "code",
   "execution_count": null,
   "metadata": {
    "tags": [
     "outputPrepend"
    ]
   },
   "outputs": [],
   "source": [
    "# Starting Jan 17, a snapshot each 8 months\n",
    "# Block numbers from https://blockchair.com/ethereum/\n",
    "snapshot_blocklimits = []\n",
    "snapshot_blocklimits.append((2912407,3100153))    # Jan '17\n",
    "snapshot_blocklimits.append((4467005,4652925))    # Nov '17\n",
    "snapshot_blocklimits.append((6249399,6430272))    # Sep '18\n",
    "snapshot_blocklimits.append((8062293,8261511))    # Jul '19\n",
    "snapshot_blocklimits.append((9976964,10176689))    # May '20\n",
    "snapshot_blocklimits.append((11948960,12150244))    # Mar '21\n",
    "\n",
    "# Only collect 100 million txs\n",
    "collect_max = 1e6\n",
    "collected = 0\n",
    "\n",
    "# Get start and end block\n",
    "snapshot = 0\n",
    "start_block = snapshot_blocklimits[snapshot][0]\n",
    "end_block = snapshot_blocklimits[snapshot][1]\n",
    "\n",
    "output_file = \"Ntxs_bf_blocks_{}_{}.txt\".format(start_block,end_block)\n",
    "f = open(output_file,'w',buffering=1)\n",
    "\n",
    "queue = OrderedSet(addresses[:100])\n",
    "seen_addresses = set()\n",
    "\n",
    "while len(queue) > 0 and collected < collect_max:\n",
    "    address = queue.pop()\n",
    "    \n",
    "    df, n = get_transactions_from_address(address,start_block,end_block)\n",
    "    collected += n # Count new txs\n",
    "\n",
    "    # Add all unseen addresses to queue\n",
    "    seen_addresses.add(address)\n",
    "    new_addresses = set([x for x in list(df[\"from\"])+list(df[\"to\"]) if x not in seen_addresses])\n",
    "    for new in new_addresses:\n",
    "        if len(queue) < 10000:\n",
    "            queue.add(new)\n",
    "\n",
    "    # sleep(0.25) # Wait 0.20s because we are limited to 5tx/s\n",
    "\n",
    "    # Append dataframe in CSV format to output file\n",
    "    f.write(df.to_csv(header=False,index=False))\n",
    "    print(\"Txs: {} of {}, New txs: {}, seen addr: {}, Q = {} ({} new), \".format(collected,collect_max,len(df),len(seen_addresses),len(queue),len(new_addresses)))"
   ]
  },
  {
   "source": [
    "## Account balances"
   ],
   "cell_type": "markdown",
   "metadata": {}
  },
  {
   "cell_type": "code",
   "execution_count": 4,
   "metadata": {},
   "outputs": [],
   "source": [
    "import numpy as np\n",
    "import pandas as pd\n",
    "import matplotlib.pyplot as plt\n",
    "import requests\n",
    "from datetime import datetime\n",
    "from orderedset import OrderedSet\n",
    "from time import sleep\n",
    "import sys\n",
    "import pickle\n",
    "\n",
    "def get_balance(balance_dict,addresses):\n",
    "    URL = \"https://api.etherscan.io/api\"    \n",
    "    # parameters\n",
    "    api_key = \"8FHTNPR8GQPAEVSRHBVDZ4TWEJQCCUB1NX\"\n",
    "    # defining a params dict for the parameters to be sent to the API\n",
    "    PARAMS = {'module':'account','action':'balancemulti','address':\",\".join(addresses),'apikey':api_key}\n",
    "    \n",
    "    # sending get request and saving the response as response object\n",
    "    try:\n",
    "      r = requests.get(url = URL, params = PARAMS)\n",
    "    except Exception:\n",
    "      # If connection error, skip this address\n",
    "      print(\"[Error] Error connecting to API, skipping address...\")\n",
    "      return pd.DataFrame({\"address\":[],\"balance\":[]})\n",
    "    \n",
    "    # Parse data into JSON\n",
    "    data = r.json()\n",
    "\n",
    "    # Add all balances to balance_dict\n",
    "    for row in data[\"result\"]:\n",
    "        balance_dict[row[\"account\"]] = int(row[\"balance\"])"
   ]
  },
  {
   "cell_type": "code",
   "execution_count": null,
   "metadata": {},
   "outputs": [],
   "source": [
    "balances = dict()"
   ]
  },
  {
   "cell_type": "code",
   "execution_count": 2,
   "metadata": {},
   "outputs": [
    {
     "output_type": "stream",
     "name": "stdout",
     "text": [
      "Now 5007 addresses\n",
      "Now 10020 addresses\n",
      "Now 15034 addresses\n",
      "Now 20054 addresses\n",
      "Now 25064 addresses\n",
      "Now 30078 addresses\n",
      "Now 35088 addresses\n",
      "Now 40096 addresses\n",
      "Now 45115 addresses\n"
     ]
    },
    {
     "output_type": "error",
     "ename": "IndexError",
     "evalue": "list index out of range",
     "traceback": [
      "\u001b[0;31m---------------------------------------------------------------------------\u001b[0m",
      "\u001b[0;31mIndexError\u001b[0m                                Traceback (most recent call last)",
      "\u001b[0;32m<ipython-input-2-11297262a1b5>\u001b[0m in \u001b[0;36m<module>\u001b[0;34m\u001b[0m\n\u001b[1;32m     13\u001b[0m     \u001b[0ms\u001b[0m \u001b[0;34m=\u001b[0m \u001b[0mline\u001b[0m\u001b[0;34m.\u001b[0m\u001b[0msplit\u001b[0m\u001b[0;34m(\u001b[0m\u001b[0;34m\",\"\u001b[0m\u001b[0;34m)\u001b[0m\u001b[0;34m\u001b[0m\u001b[0;34m\u001b[0m\u001b[0m\n\u001b[1;32m     14\u001b[0m     \u001b[0mfrom_addr\u001b[0m \u001b[0;34m=\u001b[0m \u001b[0ms\u001b[0m\u001b[0;34m[\u001b[0m\u001b[0;36m0\u001b[0m\u001b[0;34m]\u001b[0m\u001b[0;34m\u001b[0m\u001b[0;34m\u001b[0m\u001b[0m\n\u001b[0;32m---> 15\u001b[0;31m     \u001b[0mto_addr\u001b[0m \u001b[0;34m=\u001b[0m \u001b[0ms\u001b[0m\u001b[0;34m[\u001b[0m\u001b[0;36m1\u001b[0m\u001b[0;34m]\u001b[0m\u001b[0;34m\u001b[0m\u001b[0;34m\u001b[0m\u001b[0m\n\u001b[0m\u001b[1;32m     16\u001b[0m \u001b[0;34m\u001b[0m\u001b[0m\n\u001b[1;32m     17\u001b[0m     \u001b[0;32mif\u001b[0m \u001b[0mfrom_addr\u001b[0m \u001b[0;32mnot\u001b[0m \u001b[0;32min\u001b[0m \u001b[0mbalances\u001b[0m\u001b[0;34m.\u001b[0m\u001b[0mkeys\u001b[0m\u001b[0;34m(\u001b[0m\u001b[0;34m)\u001b[0m\u001b[0;34m:\u001b[0m\u001b[0;34m\u001b[0m\u001b[0;34m\u001b[0m\u001b[0m\n",
      "\u001b[0;31mIndexError\u001b[0m: list index out of range"
     ]
    }
   ],
   "source": [
    "in_file = open(\"snapshots/jan_17.txt\",'r')\n",
    "\n",
    "seen_addresses = set()\n",
    "addresses = []\n",
    "\n",
    "printed_k = 0\n",
    "\n",
    "while True:\n",
    "    line = in_file.readline()\n",
    "    if not line:\n",
    "        break\n",
    "    s = line.split(\",\")\n",
    "    try:\n",
    "        from_addr = s[0]\n",
    "        if from_addr not in balances.keys():\n",
    "            addresses.append(from_addr)\n",
    "    except Exception:\n",
    "        pass\n",
    "    try:\n",
    "        to_addr = s[1]\n",
    "        if to_addr not in balances.keys():\n",
    "            addresses.append(to_addr)\n",
    "    except Exception:\n",
    "        pass\n",
    "    \n",
    "    if len(addresses) == 20:\n",
    "        get_balance(balances,addresses)\n",
    "        addresses = []\n",
    "    elif len(addresses) > 20:\n",
    "        temp = addresses.pop()\n",
    "        get_balance(balances,addresses)\n",
    "        addresses = [temp]\n",
    "    \n",
    "    if len(balances)-printed_k > 5000:\n",
    "        print(\"Now {} addresses\".format(len(balances)))\n",
    "        printed_k = len(balances)\n",
    "\n",
    "pickle_dump(balances,open(\"balances.pckl\",'wb'))\n",
    "in_file.close()"
   ]
  },
  {
   "cell_type": "code",
   "execution_count": 3,
   "metadata": {},
   "outputs": [
    {
     "output_type": "error",
     "ename": "KeyError",
     "evalue": "0",
     "traceback": [
      "\u001b[0;31m---------------------------------------------------------------------------\u001b[0m",
      "\u001b[0;31mKeyError\u001b[0m                                  Traceback (most recent call last)",
      "\u001b[0;32m<ipython-input-3-d064d7209fe8>\u001b[0m in \u001b[0;36m<module>\u001b[0;34m\u001b[0m\n\u001b[0;32m----> 1\u001b[0;31m \u001b[0mbalances\u001b[0m\u001b[0;34m[\u001b[0m\u001b[0;36m0\u001b[0m\u001b[0;34m]\u001b[0m\u001b[0;34m\u001b[0m\u001b[0;34m\u001b[0m\u001b[0m\n\u001b[0m",
      "\u001b[0;31mKeyError\u001b[0m: 0"
     ]
    }
   ],
   "source": []
  },
  {
   "cell_type": "code",
   "execution_count": null,
   "metadata": {},
   "outputs": [],
   "source": []
  }
 ]
}