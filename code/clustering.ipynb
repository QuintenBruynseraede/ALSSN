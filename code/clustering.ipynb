{
 "metadata": {
  "language_info": {
   "codemirror_mode": {
    "name": "ipython",
    "version": 3
   },
   "file_extension": ".py",
   "mimetype": "text/x-python",
   "name": "python",
   "nbconvert_exporter": "python",
   "pygments_lexer": "ipython3",
   "version": "3.7.4"
  },
  "orig_nbformat": 2,
  "kernelspec": {
   "name": "python374jvsc74a57bd0b9588a34abcff1de4bf972ab5cd68986d24a9b9139f34369b07ef3ad172a77fb",
   "display_name": "Python 3.7.4 64-bit ('base': conda)"
  },
  "metadata": {
   "interpreter": {
    "hash": "b9588a34abcff1de4bf972ab5cd68986d24a9b9139f34369b07ef3ad172a77fb"
   }
  }
 },
 "nbformat": 4,
 "nbformat_minor": 2,
 "cells": [
  {
   "cell_type": "code",
   "execution_count": 2,
   "metadata": {},
   "outputs": [
    {
     "output_type": "stream",
     "name": "stdout",
     "text": [
      "Requirement already satisfied: python-igraph in /home/quinten/.anaconda3/lib/python3.7/site-packages (0.9.1)\n",
      "Requirement already satisfied: texttable>=1.6.2 in /home/quinten/.anaconda3/lib/python3.7/site-packages (from python-igraph) (1.6.3)\n",
      "\u001b[33mWARNING: You are using pip version 21.0.1; however, version 21.1 is available.\n",
      "You should consider upgrading via the '/home/quinten/.anaconda3/bin/python -m pip install --upgrade pip' command.\u001b[0m\n",
      "Requirement already satisfied: matplotlib in /home/quinten/.anaconda3/lib/python3.7/site-packages (3.1.1)\n",
      "Requirement already satisfied: cycler>=0.10 in /home/quinten/.anaconda3/lib/python3.7/site-packages (from matplotlib) (0.10.0)\n",
      "Requirement already satisfied: kiwisolver>=1.0.1 in /home/quinten/.anaconda3/lib/python3.7/site-packages (from matplotlib) (1.1.0)\n",
      "Requirement already satisfied: pyparsing!=2.0.4,!=2.1.2,!=2.1.6,>=2.0.1 in /home/quinten/.local/lib/python3.7/site-packages (from matplotlib) (2.4.7)\n",
      "Requirement already satisfied: python-dateutil>=2.1 in /home/quinten/.local/lib/python3.7/site-packages (from matplotlib) (2.8.1)\n",
      "Requirement already satisfied: numpy>=1.11 in /home/quinten/.local/lib/python3.7/site-packages (from matplotlib) (1.19.1)\n",
      "Requirement already satisfied: six in /home/quinten/.anaconda3/lib/python3.7/site-packages (from cycler>=0.10->matplotlib) (1.12.0)\n",
      "Requirement already satisfied: setuptools in /home/quinten/.anaconda3/lib/python3.7/site-packages (from kiwisolver>=1.0.1->matplotlib) (41.4.0)\n",
      "\u001b[33mWARNING: You are using pip version 21.0.1; however, version 21.1 is available.\n",
      "You should consider upgrading via the '/home/quinten/.anaconda3/bin/python -m pip install --upgrade pip' command.\u001b[0m\n",
      "Requirement already satisfied: seaborn in /home/quinten/.anaconda3/lib/python3.7/site-packages (0.9.0)\n",
      "Requirement already satisfied: numpy>=1.9.3 in /home/quinten/.local/lib/python3.7/site-packages (from seaborn) (1.19.1)\n",
      "Requirement already satisfied: scipy>=0.14.0 in /home/quinten/.anaconda3/lib/python3.7/site-packages (from seaborn) (1.6.1)\n",
      "Requirement already satisfied: matplotlib>=1.4.3 in /home/quinten/.anaconda3/lib/python3.7/site-packages (from seaborn) (3.1.1)\n",
      "Requirement already satisfied: pandas>=0.15.2 in /home/quinten/.anaconda3/lib/python3.7/site-packages (from seaborn) (1.1.1)\n",
      "Requirement already satisfied: cycler>=0.10 in /home/quinten/.anaconda3/lib/python3.7/site-packages (from matplotlib>=1.4.3->seaborn) (0.10.0)\n",
      "Requirement already satisfied: kiwisolver>=1.0.1 in /home/quinten/.anaconda3/lib/python3.7/site-packages (from matplotlib>=1.4.3->seaborn) (1.1.0)\n",
      "Requirement already satisfied: pyparsing!=2.0.4,!=2.1.2,!=2.1.6,>=2.0.1 in /home/quinten/.local/lib/python3.7/site-packages (from matplotlib>=1.4.3->seaborn) (2.4.7)\n",
      "Requirement already satisfied: python-dateutil>=2.1 in /home/quinten/.local/lib/python3.7/site-packages (from matplotlib>=1.4.3->seaborn) (2.8.1)\n",
      "Requirement already satisfied: six in /home/quinten/.anaconda3/lib/python3.7/site-packages (from cycler>=0.10->matplotlib>=1.4.3->seaborn) (1.12.0)\n",
      "Requirement already satisfied: setuptools in /home/quinten/.anaconda3/lib/python3.7/site-packages (from kiwisolver>=1.0.1->matplotlib>=1.4.3->seaborn) (41.4.0)\n",
      "Requirement already satisfied: pytz>=2017.2 in /home/quinten/.local/lib/python3.7/site-packages (from pandas>=0.15.2->seaborn) (2020.1)\n",
      "\u001b[33mWARNING: You are using pip version 21.0.1; however, version 21.1 is available.\n",
      "You should consider upgrading via the '/home/quinten/.anaconda3/bin/python -m pip install --upgrade pip' command.\u001b[0m\n",
      "/home/quinten/.anaconda3/lib/python3.7/site-packages/statsmodels/tools/_testing.py:19: FutureWarning: pandas.util.testing is deprecated. Use the functions in the public API at pandas.testing instead.\n",
      "  import pandas.util.testing as tm\n"
     ]
    }
   ],
   "source": [
    "!pip install python-igraph\n",
    "!pip install matplotlib\n",
    "!pip install seaborn\n",
    "from igraph import *\n",
    "import igraph\n",
    "import matplotlib.pyplot as plt\n",
    "import math\n",
    "import numpy as np\n",
    "import os\n",
    "import seaborn as sns"
   ]
  },
  {
   "cell_type": "code",
   "execution_count": null,
   "metadata": {},
   "outputs": [],
   "source": [
    "# ## Download alle snapshots (uncomment degene die ge nodig hebt)\n",
    "# !wget -N https://github.com/QuintenBruynseraede/ALSSN/raw/main/code/snapshots/jan_17.txt\n",
    "# !wget -N https://github.com/QuintenBruynseraede/ALSSN/raw/main/code/snapshots/jul_19.txt\n",
    "# !wget -N https://github.com/QuintenBruynseraede/ALSSN/raw/main/code/snapshots/mar_21.txt\n",
    "# !wget -N https://github.com/QuintenBruynseraede/ALSSN/raw/main/code/snapshots/may_20.txt\n",
    "# !wget -N https://github.com/QuintenBruynseraede/ALSSN/raw/main/code/snapshots/sep_18.txt\n",
    "# !wget -N https://github.com/QuintenBruynseraede/ALSSN/raw/main/code/snapshots/nov_17.txt\n",
    "# !wget -N https://github.com/QuintenBruynseraede/ALSSN/raw/main/code/snapshots/jan_17_sample.txt\n",
    "# !wget -N https://github.com/QuintenBruynseraede/ALSSN/raw/main/code/snapshots/jul_19_sample.txt\n",
    "# !wget -N https://github.com/QuintenBruynseraede/ALSSN/raw/main/code/snapshots/mar_21_sample.txt\n",
    "# !wget -N https://github.com/QuintenBruynseraede/ALSSN/raw/main/code/snapshots/may_20_sample.txt\n",
    "# !wget -N https://github.com/QuintenBruynseraede/ALSSN/raw/main/code/snapshots/sep_18_sample.txt\n",
    "# !wget -N https://github.com/QuintenBruynseraede/ALSSN/raw/main/code/snapshots/nov_17_sample.txt"
   ]
  },
  {
   "cell_type": "code",
   "execution_count": 2,
   "metadata": {},
   "outputs": [
    {
     "output_type": "stream",
     "name": "stdout",
     "text": [
      "jan_17_sample.txt  mar_21_sample.txt  nov_17_sample.txt       sep_18.txt\njan_17.txt\t   mar_21.txt\t      nov_17.txt\njul_19_sample.txt  may_20_sample.txt  proposal_structure.txt\njul_19.txt\t   may_20.txt\t      sep_18_sample.txt\n"
     ]
    }
   ],
   "source": [
    "!ls snapshots"
   ]
  },
  {
   "cell_type": "code",
   "execution_count": 2,
   "metadata": {},
   "outputs": [],
   "source": [
    "# jan_17.txt nov_17.txt sep_18.txt jul_19.txt may_20.txt mar_21.txt  \n",
    "file = \"mar_21.txt\"\n",
    "g = Graph.Read_Ncol(\"snapshots/\"+file, directed=True)"
   ]
  },
  {
   "cell_type": "code",
   "execution_count": 3,
   "metadata": {},
   "outputs": [
    {
     "output_type": "stream",
     "name": "stdout",
     "text": [
      "End of file.\n"
     ]
    }
   ],
   "source": [
    "# Load whale addresses and their info\n",
    "whales_addr = set()\n",
    "with open(\"top_1000_addresses.txt\",\"r\") as f:\n",
    "    while True:\n",
    "        line = f.readline()[:-1]\n",
    "        if not line:\n",
    "            break\n",
    "        whales_addr.add(line)\n",
    "\n",
    "locations = dict()\n",
    "names = dict()\n",
    "types = dict()\n",
    "balances = dict()\n",
    "with open(\"whales_information.txt\",'r') as f:\n",
    "    lines = f.readlines()\n",
    "    for line in lines:\n",
    "        s = line.split(\" \")\n",
    "        names[s[0]] = s[1]\n",
    "        locations[s[0]] = s[2]\n",
    "        types[s[0]] = s[3]\n",
    "        balances[s[0]] = int(s[4].replace(\"\\n\",\"\"))\n",
    "print(\"End of file.\")"
   ]
  },
  {
   "cell_type": "code",
   "execution_count": 4,
   "metadata": {},
   "outputs": [
    {
     "output_type": "stream",
     "name": "stdout",
     "text": [
      "Wrote graph plot to plot.pdf\n"
     ]
    }
   ],
   "source": [
    "# Create graph\n",
    "whales = [n for n in g.vs() if n[\"name\"] in whales_addr]\n",
    "not_whales = [n for n in g.vs() if n[\"name\"] not in whales_addr]\n",
    "\n",
    "# Find whales and their neighbors + create subgraph\n",
    "whales_neighborhood = set(whales)\n",
    "for w in whales:\n",
    "    whales_neighborhood = whales_neighborhood.union(g.neighbors(w))\n",
    "whales_subgraph = g.subgraph(whales_neighborhood)\n",
    "only_whales_subgraph = g.subgraph(whales)\n",
    "\n",
    "# Visualize whales\n",
    "layout = only_whales_subgraph.layout(layout='fr')\n",
    "visual_style = {}\n",
    "\n",
    "visual_style[\"vertex_size\"] = [0.04+0.1*math.sqrt(balances[n[\"name\"]]-900) for n in only_whales_subgraph.vs()]\n",
    "max_weight = math.log(max(only_whales_subgraph.es[\"weight\"]))\n",
    "\n",
    "for n in only_whales_subgraph.vs():\n",
    "    if types[n[\"name\"]] == \"Exchange\":\n",
    "        n[\"color\"] = \"rgba(235,103,52,1)\"\n",
    "    elif types[n[\"name\"]] == \"Finance\":\n",
    "        n[\"color\"] = \"rgba(57,77,164,1)\"    \n",
    "    elif types[n[\"name\"]] == \"Token\":\n",
    "        n[\"color\"] = \"rgba(191, 63, 191,1)\"\n",
    "    elif types[n[\"name\"]] == \"Mining\":\n",
    "        n[\"color\"] = \"rgba(92, 169, 44,1)\"\n",
    "    elif types[n[\"name\"]] == \"Unknown\":\n",
    "        n[\"color\"] = \"rgba(200,200,200,1)\"\n",
    "    else:\n",
    "        print(\"Unknown type: \"+types[n[\"name\"]])\n",
    "     \n",
    "\n",
    "# Scale edge_widths logarithmically to suppress large ranges\n",
    "# visual_style[\"edge_width\"] = [1+(5.0*math.log(weight)/max_weight) for weight in g.es[\"weight\"]]\n",
    "visual_style[\"edge_width\"] = [3]\n",
    "visual_style[\"edge_arrow_size\"] = 0.2\n",
    "visual_style[\"layout\"] = layout\n",
    "visual_style[\"bbox\"] = (800, 800)\n",
    "visual_style[\"margin\"] = 40\n",
    "visual_style[\"node_color\"] = \"blue\"\n",
    "plot(only_whales_subgraph,**visual_style, target='plots/plot.pdf',edge_color=\"rgba(0,0,0,1)\")\n",
    "print(\"Wrote graph plot to plot.pdf\")"
   ]
  },
  {
   "source": [
    "## Community detection"
   ],
   "cell_type": "markdown",
   "metadata": {}
  },
  {
   "cell_type": "code",
   "execution_count": 2,
   "metadata": {},
   "outputs": [
    {
     "output_type": "error",
     "ename": "NameError",
     "evalue": "name 'Graph' is not defined",
     "traceback": [
      "\u001b[0;31m---------------------------------------------------------------------------\u001b[0m",
      "\u001b[0;31mNameError\u001b[0m                                 Traceback (most recent call last)",
      "\u001b[0;32m<ipython-input-2-a16d3470e45e>\u001b[0m in \u001b[0;36m<module>\u001b[0;34m\u001b[0m\n\u001b[1;32m      1\u001b[0m \u001b[0;31m# jan_17.txt nov_17.txt sep_18.txt jul_19.txt may_20.txt mar_21.txt\u001b[0m\u001b[0;34m\u001b[0m\u001b[0;34m\u001b[0m\u001b[0;34m\u001b[0m\u001b[0m\n\u001b[1;32m      2\u001b[0m \u001b[0mfile\u001b[0m \u001b[0;34m=\u001b[0m \u001b[0;34m\"mar_21.txt\"\u001b[0m\u001b[0;34m\u001b[0m\u001b[0;34m\u001b[0m\u001b[0m\n\u001b[0;32m----> 3\u001b[0;31m \u001b[0mg\u001b[0m \u001b[0;34m=\u001b[0m \u001b[0mGraph\u001b[0m\u001b[0;34m.\u001b[0m\u001b[0mRead_Ncol\u001b[0m\u001b[0;34m(\u001b[0m\u001b[0mfile\u001b[0m\u001b[0;34m,\u001b[0m \u001b[0mdirected\u001b[0m\u001b[0;34m=\u001b[0m\u001b[0;32mTrue\u001b[0m\u001b[0;34m)\u001b[0m\u001b[0;34m\u001b[0m\u001b[0;34m\u001b[0m\u001b[0m\n\u001b[0m\u001b[1;32m      4\u001b[0m \u001b[0;34m\u001b[0m\u001b[0m\n\u001b[1;32m      5\u001b[0m \u001b[0mlead\u001b[0m \u001b[0;34m=\u001b[0m \u001b[0mg\u001b[0m\u001b[0;34m.\u001b[0m\u001b[0mcommunity_leading_eigenvector\u001b[0m\u001b[0;34m(\u001b[0m\u001b[0;34m)\u001b[0m\u001b[0;34m\u001b[0m\u001b[0;34m\u001b[0m\u001b[0m\n",
      "\u001b[0;31mNameError\u001b[0m: name 'Graph' is not defined"
     ]
    }
   ],
   "source": [
    "# jan_17.txt nov_17.txt sep_18.txt jul_19.txt may_20.txt mar_21.txt  \n",
    "file = \"mar_21.txt\"\n",
    "g = Graph.Read_Ncol(file, directed=True)\n",
    "\n",
    "lead = g.community_leading_eigenvector()\n",
    "print(lead.modularity)\n",
    "walktrap = g.community_walktrap()\n",
    "walktrap_cl = walktrap.as_clustering()\n",
    "print(walktrap_cl.modularity)\n",
    "# lvn = g.community_multilevel(weights=None)\n",
    "# print(lvn.modularity)"
   ]
  },
  {
   "cell_type": "code",
   "execution_count": 1,
   "metadata": {},
   "outputs": [
    {
     "output_type": "error",
     "ename": "NameError",
     "evalue": "name 'g' is not defined",
     "traceback": [
      "\u001b[0;31m---------------------------------------------------------------------------\u001b[0m",
      "\u001b[0;31mNameError\u001b[0m                                 Traceback (most recent call last)",
      "\u001b[0;32m<ipython-input-1-8626997039ee>\u001b[0m in \u001b[0;36m<module>\u001b[0;34m\u001b[0m\n\u001b[1;32m      1\u001b[0m \u001b[0;31m# Visualize clusters in different colors\u001b[0m\u001b[0;34m\u001b[0m\u001b[0;34m\u001b[0m\u001b[0;34m\u001b[0m\u001b[0m\n\u001b[0;32m----> 2\u001b[0;31m \u001b[0mlayout\u001b[0m \u001b[0;34m=\u001b[0m \u001b[0mg\u001b[0m\u001b[0;34m.\u001b[0m\u001b[0mlayout\u001b[0m\u001b[0;34m(\u001b[0m\u001b[0mlayout\u001b[0m\u001b[0;34m=\u001b[0m\u001b[0;34m'lgl'\u001b[0m\u001b[0;34m)\u001b[0m\u001b[0;34m\u001b[0m\u001b[0;34m\u001b[0m\u001b[0m\n\u001b[0m\u001b[1;32m      3\u001b[0m \u001b[0mvisual_style\u001b[0m \u001b[0;34m=\u001b[0m \u001b[0;34m{\u001b[0m\u001b[0;34m}\u001b[0m\u001b[0;34m\u001b[0m\u001b[0;34m\u001b[0m\u001b[0m\n\u001b[1;32m      4\u001b[0m \u001b[0;34m\u001b[0m\u001b[0m\n\u001b[1;32m      5\u001b[0m \u001b[0mvisual_style\u001b[0m\u001b[0;34m[\u001b[0m\u001b[0;34m\"vertex_size\"\u001b[0m\u001b[0;34m]\u001b[0m \u001b[0;34m=\u001b[0m \u001b[0;34m[\u001b[0m\u001b[0;36m0.1\u001b[0m\u001b[0;34m]\u001b[0m\u001b[0;34m\u001b[0m\u001b[0;34m\u001b[0m\u001b[0m\n",
      "\u001b[0;31mNameError\u001b[0m: name 'g' is not defined"
     ]
    }
   ],
   "source": [
    "# Visualize clusters in different colors\n",
    "layout = g.layout(layout='lgl')\n",
    "visual_style = {}\n",
    "\n",
    "visual_style[\"vertex_size\"] = [0.1]     \n",
    "visual_style[\"edge_width\"] = [0.1]\n",
    "visual_style[\"edge_width\"] = [3]\n",
    "visual_style[\"edge_arrow_size\"] = 0.2\n",
    "visual_style[\"layout\"] = layout\n",
    "visual_style[\"bbox\"] = (10000, 10000)\n",
    "visual_style[\"margin\"] = 40\n",
    "#mark_groups = lead or walktrap_cl or communities\n",
    "plot(only_whales_subgraph,**visual_style, target='plots/plot.pdf',edge_color=\"rgba(0,0,0,0.1)\",mark_groups=lead)\n",
    "print(\"Wrote graph plot to plot.pdf\")"
   ]
  },
  {
   "cell_type": "code",
   "execution_count": null,
   "metadata": {},
   "outputs": [],
   "source": []
  }
 ]
}